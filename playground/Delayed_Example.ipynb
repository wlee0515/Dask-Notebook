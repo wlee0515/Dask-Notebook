{
 "cells": [
  {
   "cell_type": "code",
   "execution_count": 1,
   "id": "3ce68dc5-2800-4cfc-a65e-53cea4b06a0a",
   "metadata": {},
   "outputs": [
    {
     "data": {
      "text/html": [
       "\n",
       "            <div>\n",
       "                <div style=\"\n",
       "                    width: 24px;\n",
       "                    height: 24px;\n",
       "                    background-color: #e1e1e1;\n",
       "                    border: 3px solid #9D9D9D;\n",
       "                    border-radius: 5px;\n",
       "                    position: absolute;\"> </div>\n",
       "                <div style=\"margin-left: 48px;\">\n",
       "                    <h3 style=\"margin-bottom: 0px;\">Client</h3>\n",
       "                    <p style=\"color: #9D9D9D; margin-bottom: 0px;\">Client-1687f96d-fa20-11eb-802e-02420a000507</p>\n",
       "                    <table style=\"width: 100%; text-align: left;\">\n",
       "                    \n",
       "                <tr>\n",
       "                    <td style=\"text-align: left;\"><strong>Connection method:</strong> Direct</td>\n",
       "                    <td style=\"text-align: left;\"></td>\n",
       "                </tr>\n",
       "                \n",
       "                <tr>\n",
       "                    <td style=\"text-align: left;\">\n",
       "                        <strong>Dashboard: </strong>\n",
       "                        <a href=\"http://scheduler:8787/status\">http://scheduler:8787/status</a>\n",
       "                    </td>\n",
       "                    <td style=\"text-align: left;\"></td>\n",
       "                </tr>\n",
       "                \n",
       "                    </table>\n",
       "                    \n",
       "                <details>\n",
       "                <summary style=\"margin-bottom: 20px;\"><h3 style=\"display: inline;\">Scheduler Info</h3></summary>\n",
       "                \n",
       "        <div style=\"\">\n",
       "            \n",
       "            <div>\n",
       "                <div style=\"\n",
       "                    width: 24px;\n",
       "                    height: 24px;\n",
       "                    background-color: #FFF7E5;\n",
       "                    border: 3px solid #FF6132;\n",
       "                    border-radius: 5px;\n",
       "                    position: absolute;\"> </div>\n",
       "                <div style=\"margin-left: 48px;\">\n",
       "                    <h3 style=\"margin-bottom: 0px;\">Scheduler</h3>\n",
       "                    <p style=\"color: #9D9D9D; margin-bottom: 0px;\">Scheduler-eb11c734-02bf-44fc-8720-dd7893b05e91</p>\n",
       "                    <table style=\"width: 100%; text-align: left;\">\n",
       "                        <tr>\n",
       "                            <td style=\"text-align: left;\"><strong>Comm:</strong> tcp://172.18.0.6:8786</td>\n",
       "                            <td style=\"text-align: left;\"><strong>Workers:</strong> 2</td>\n",
       "                        </tr>\n",
       "                        <tr>\n",
       "                            <td style=\"text-align: left;\">\n",
       "                                <strong>Dashboard:</strong> <a href=\"http://172.18.0.6:8787/status\">http://172.18.0.6:8787/status</a>\n",
       "                            </td>\n",
       "                            <td style=\"text-align: left;\">\n",
       "                                <strong>Total threads:</strong>\n",
       "                                16\n",
       "                            </td>\n",
       "                        </tr>\n",
       "                        <tr>\n",
       "                            <td style=\"text-align: left;\">\n",
       "                                <strong>Started:</strong>\n",
       "                                2 minutes ago\n",
       "                            </td>\n",
       "                            <td style=\"text-align: left;\">\n",
       "                                <strong>Total memory:</strong>\n",
       "                                0.98 GiB\n",
       "                            </td>\n",
       "                        </tr>\n",
       "                    </table>\n",
       "                </div>\n",
       "            </div>\n",
       "        \n",
       "            <details style=\"margin-left: 48px;\">\n",
       "            <summary style=\"margin-bottom: 20px;\"><h3 style=\"display: inline;\">Workers</h3></summary>\n",
       "            \n",
       "            <div style=\"margin-bottom: 20px;\">\n",
       "                <div style=\"width: 24px;\n",
       "                            height: 24px;\n",
       "                            background-color: #DBF5FF;\n",
       "                            border: 3px solid #4CC9FF;\n",
       "                            border-radius: 5px;\n",
       "                            position: absolute;\"> </div>\n",
       "                <div style=\"margin-left: 48px;\">\n",
       "                <details>\n",
       "                    <summary>\n",
       "                        <h4 style=\"margin-bottom: 0px; display: inline;\">Worker: tcp://10.0.5.3:36293</h4>\n",
       "                    </summary>\n",
       "                    <table style=\"width: 100%; text-align: left;\">\n",
       "                        <tr>\n",
       "                            <td style=\"text-align: left;\"><strong>Comm: </strong> tcp://10.0.5.3:36293</td>\n",
       "                            <td style=\"text-align: left;\"><strong>Total threads: </strong> 8</td>\n",
       "                        </tr>\n",
       "                        <tr>\n",
       "                            <td style=\"text-align: left;\">\n",
       "                                <strong>Dashboard: </strong>\n",
       "                                <a href=\"http://10.0.5.3:36907/status\">http://10.0.5.3:36907/status</a>\n",
       "                            </td>\n",
       "                            <td style=\"text-align: left;\">\n",
       "                                <strong>Memory: </strong>\n",
       "                                500.00 MiB\n",
       "                            </td>\n",
       "                        </tr>\n",
       "                        <tr>\n",
       "                            <td style=\"text-align: left;\"><strong>Nanny: </strong> tcp://10.0.5.3:45841</td>\n",
       "                            <td style=\"text-align: left;\"></td>\n",
       "                        </tr>\n",
       "                        <tr>\n",
       "                            <td colspan=\"2\" style=\"text-align: left;\">\n",
       "                                <strong>Local directory: </strong>\n",
       "                                /home/myuser/playground/dask-worker-space/worker-o2mae05r\n",
       "                            </td>\n",
       "                        </tr>\n",
       "                        \n",
       "                        \n",
       "                <tr>\n",
       "                    <td style=\"text-align: left;\">\n",
       "                        <strong>Tasks executing: </strong> 0\n",
       "                    </td>\n",
       "                    <td style=\"text-align: left;\">\n",
       "                        <strong>Tasks in memory: </strong> 0\n",
       "                    </td>\n",
       "                </tr>\n",
       "                <tr>\n",
       "                    <td style=\"text-align: left;\">\n",
       "                        <strong>Tasks ready: </strong> 0\n",
       "                    </td>\n",
       "                    <td style=\"text-align: left;\">\n",
       "                        <strong>Tasks in flight: </strong>0\n",
       "                    </td>\n",
       "                </tr>\n",
       "                <tr>\n",
       "                    <td style=\"text-align: left;\"><strong>CPU usage:</strong> 2.0%</td>\n",
       "                    <td style=\"text-align: left;\">\n",
       "                        <strong>Last seen: </strong>\n",
       "                        Just now\n",
       "                    </td>\n",
       "                </tr>\n",
       "                <tr>\n",
       "                    <td style=\"text-align: left;\">\n",
       "                        <strong>Memory usage: </strong>\n",
       "                        109.25 MiB\n",
       "                    </td>\n",
       "                    <td style=\"text-align: left;\">\n",
       "                        <strong>Spilled bytes: </strong>\n",
       "                        0 B\n",
       "                    </td>\n",
       "                </tr>\n",
       "                <tr>\n",
       "                    <td style=\"text-align: left;\">\n",
       "                        <strong>Read bytes: </strong>\n",
       "                        286.3286328407515 B\n",
       "                    </td>\n",
       "                    <td style=\"text-align: left;\">\n",
       "                        <strong>Write bytes: </strong>\n",
       "                        858.9858985222545 B\n",
       "                    </td>\n",
       "                </tr>\n",
       "                \n",
       "                    </table>\n",
       "                </details>\n",
       "                </div>\n",
       "            </div>\n",
       "            \n",
       "            <div style=\"margin-bottom: 20px;\">\n",
       "                <div style=\"width: 24px;\n",
       "                            height: 24px;\n",
       "                            background-color: #DBF5FF;\n",
       "                            border: 3px solid #4CC9FF;\n",
       "                            border-radius: 5px;\n",
       "                            position: absolute;\"> </div>\n",
       "                <div style=\"margin-left: 48px;\">\n",
       "                <details>\n",
       "                    <summary>\n",
       "                        <h4 style=\"margin-bottom: 0px; display: inline;\">Worker: tcp://10.0.5.4:37165</h4>\n",
       "                    </summary>\n",
       "                    <table style=\"width: 100%; text-align: left;\">\n",
       "                        <tr>\n",
       "                            <td style=\"text-align: left;\"><strong>Comm: </strong> tcp://10.0.5.4:37165</td>\n",
       "                            <td style=\"text-align: left;\"><strong>Total threads: </strong> 8</td>\n",
       "                        </tr>\n",
       "                        <tr>\n",
       "                            <td style=\"text-align: left;\">\n",
       "                                <strong>Dashboard: </strong>\n",
       "                                <a href=\"http://10.0.5.4:43787/status\">http://10.0.5.4:43787/status</a>\n",
       "                            </td>\n",
       "                            <td style=\"text-align: left;\">\n",
       "                                <strong>Memory: </strong>\n",
       "                                500.00 MiB\n",
       "                            </td>\n",
       "                        </tr>\n",
       "                        <tr>\n",
       "                            <td style=\"text-align: left;\"><strong>Nanny: </strong> tcp://10.0.5.4:38845</td>\n",
       "                            <td style=\"text-align: left;\"></td>\n",
       "                        </tr>\n",
       "                        <tr>\n",
       "                            <td colspan=\"2\" style=\"text-align: left;\">\n",
       "                                <strong>Local directory: </strong>\n",
       "                                /home/myuser/playground/dask-worker-space/worker-lagwat10\n",
       "                            </td>\n",
       "                        </tr>\n",
       "                        \n",
       "                        \n",
       "                <tr>\n",
       "                    <td style=\"text-align: left;\">\n",
       "                        <strong>Tasks executing: </strong> 0\n",
       "                    </td>\n",
       "                    <td style=\"text-align: left;\">\n",
       "                        <strong>Tasks in memory: </strong> 0\n",
       "                    </td>\n",
       "                </tr>\n",
       "                <tr>\n",
       "                    <td style=\"text-align: left;\">\n",
       "                        <strong>Tasks ready: </strong> 0\n",
       "                    </td>\n",
       "                    <td style=\"text-align: left;\">\n",
       "                        <strong>Tasks in flight: </strong>0\n",
       "                    </td>\n",
       "                </tr>\n",
       "                <tr>\n",
       "                    <td style=\"text-align: left;\"><strong>CPU usage:</strong> 4.0%</td>\n",
       "                    <td style=\"text-align: left;\">\n",
       "                        <strong>Last seen: </strong>\n",
       "                        Just now\n",
       "                    </td>\n",
       "                </tr>\n",
       "                <tr>\n",
       "                    <td style=\"text-align: left;\">\n",
       "                        <strong>Memory usage: </strong>\n",
       "                        105.88 MiB\n",
       "                    </td>\n",
       "                    <td style=\"text-align: left;\">\n",
       "                        <strong>Spilled bytes: </strong>\n",
       "                        0 B\n",
       "                    </td>\n",
       "                </tr>\n",
       "                <tr>\n",
       "                    <td style=\"text-align: left;\">\n",
       "                        <strong>Read bytes: </strong>\n",
       "                        285.7375819288278 B\n",
       "                    </td>\n",
       "                    <td style=\"text-align: left;\">\n",
       "                        <strong>Write bytes: </strong>\n",
       "                        857.2127457864834 B\n",
       "                    </td>\n",
       "                </tr>\n",
       "                \n",
       "                    </table>\n",
       "                </details>\n",
       "                </div>\n",
       "            </div>\n",
       "            \n",
       "            </details>\n",
       "        </div>\n",
       "        \n",
       "                </details>\n",
       "                \n",
       "                </div>\n",
       "            </div>\n",
       "        "
      ],
      "text/plain": [
       "<Client: 'tcp://172.18.0.6:8786' processes=2 threads=16, memory=0.98 GiB>"
      ]
     },
     "execution_count": 1,
     "metadata": {},
     "output_type": "execute_result"
    }
   ],
   "source": [
    "import os\n",
    "from dask.distributed import Client, progress\n",
    "client = Client(os.environ[\"DASK_SCHEDULER_ADDRESS\"])\n",
    "client"
   ]
  },
  {
   "cell_type": "code",
   "execution_count": 2,
   "id": "5d0a124b-d0df-474a-888f-518efe5f0304",
   "metadata": {},
   "outputs": [],
   "source": [
    "import time\n",
    "import random\n",
    "\n",
    "def inc(x):\n",
    "    time.sleep(2)\n",
    "    return x + 1\n",
    "\n",
    "def dec(x):\n",
    "    time.sleep(2)\n",
    "    return x - 1\n",
    "    \n",
    "def add(x, y):\n",
    "    time.sleep(2)\n",
    "    return x + y"
   ]
  },
  {
   "cell_type": "code",
   "execution_count": 3,
   "id": "23765ffe-6a3d-4d55-994b-068820b4e287",
   "metadata": {},
   "outputs": [
    {
     "name": "stdout",
     "output_type": "stream",
     "text": [
      "CPU times: user 0 ns, sys: 10.4 ms, total: 10.4 ms\n",
      "Wall time: 6 s\n"
     ]
    },
    {
     "data": {
      "text/plain": [
       "3"
      ]
     },
     "execution_count": 3,
     "metadata": {},
     "output_type": "execute_result"
    }
   ],
   "source": [
    "%%time\n",
    "x = inc(1)\n",
    "y = dec(2)\n",
    "z = add(x, y)\n",
    "z"
   ]
  },
  {
   "cell_type": "code",
   "execution_count": 4,
   "id": "4cf428d0-3a45-4780-8851-05c9552f0356",
   "metadata": {},
   "outputs": [],
   "source": [
    "import dask"
   ]
  },
  {
   "cell_type": "code",
   "execution_count": 5,
   "id": "5e55a5d8-6b0d-45ee-aeb3-37084b0d5156",
   "metadata": {},
   "outputs": [
    {
     "name": "stdout",
     "output_type": "stream",
     "text": [
      "CPU times: user 102 ms, sys: 16.9 ms, total: 119 ms\n",
      "Wall time: 4.38 s\n"
     ]
    },
    {
     "data": {
      "text/plain": [
       "3"
      ]
     },
     "execution_count": 5,
     "metadata": {},
     "output_type": "execute_result"
    }
   ],
   "source": [
    "%%time\n",
    "x = dask.delayed(inc)(1)\n",
    "y = dask.delayed(dec)(2)\n",
    "z = dask.delayed(add)(x, y)\n",
    "z.compute()"
   ]
  },
  {
   "cell_type": "code",
   "execution_count": 6,
   "id": "47bc6842-24d1-48a0-af62-73c9a860f10b",
   "metadata": {},
   "outputs": [
    {
     "name": "stdout",
     "output_type": "stream",
     "text": [
      "CPU times: user 40.4 ms, sys: 343 µs, total: 40.8 ms\n",
      "Wall time: 34.9 ms\n"
     ]
    }
   ],
   "source": [
    "%%time\n",
    "zs = []\n",
    "sum = 0;\n",
    "for i in range(40):\n",
    "    x = dask.delayed(inc)(i)\n",
    "    y = dask.delayed(dec)(x)\n",
    "    z = dask.delayed(add)(x, y)\n",
    "    sum = dask.delayed(add)(sum, z) \n",
    "    zs.append(z)"
   ]
  },
  {
   "cell_type": "code",
   "execution_count": 7,
   "id": "4eba424e-c8e5-41dc-8e23-81ba015851a5",
   "metadata": {},
   "outputs": [
    {
     "name": "stdout",
     "output_type": "stream",
     "text": [
      "CPU times: user 137 ms, sys: 67.9 ms, total: 205 ms\n",
      "Wall time: 1min 34s\n"
     ]
    },
    {
     "data": {
      "text/plain": [
       "1600"
      ]
     },
     "execution_count": 7,
     "metadata": {},
     "output_type": "execute_result"
    }
   ],
   "source": [
    "%%time\n",
    "zs = dask.persist(*zs)\n",
    "sum.compute() "
   ]
  },
  {
   "cell_type": "code",
   "execution_count": 8,
   "id": "184e511b-0314-4d36-bcdb-f47a8491e726",
   "metadata": {},
   "outputs": [
    {
     "data": {
      "text/plain": [
       "(Delayed('add-5e8d9465-1c1a-49b2-99fe-0c2c612239b8'),\n",
       " Delayed('add-824eaf41-dc70-4892-90b6-2a468ac6b5d8'),\n",
       " Delayed('add-e6196189-6d6c-4456-9281-7ccca0066d50'),\n",
       " Delayed('add-3479e306-fdd2-45be-99f0-fa5a8668930e'),\n",
       " Delayed('add-479ee1f9-bd70-4c4b-be35-c328c69e5e1f'),\n",
       " Delayed('add-a9b1bb1d-af49-4d8c-96fd-9169fa796281'),\n",
       " Delayed('add-211a8ed4-e87e-4cf9-a9bf-350bf912459c'),\n",
       " Delayed('add-a1fa04b8-3613-4937-950c-3c2eee5b3335'),\n",
       " Delayed('add-18880a86-3ffd-43f4-95dc-8c586089356f'),\n",
       " Delayed('add-b0601d54-a866-433b-8199-cedd5722e434'),\n",
       " Delayed('add-e92e7946-7f72-4369-888f-aae15e073b1a'),\n",
       " Delayed('add-764e90ba-e896-4e38-a5a1-a2c1cf840e70'),\n",
       " Delayed('add-be86de13-db44-44d5-ba09-adc15ac21b91'),\n",
       " Delayed('add-da5d049e-a402-4d97-92bd-228227815b14'),\n",
       " Delayed('add-7640fdef-9930-4593-b66e-4ffa744296b0'),\n",
       " Delayed('add-52b92748-7caf-4733-80fc-f7ffa0ea643f'),\n",
       " Delayed('add-83276649-0bd2-4e14-be3d-94804f8f36b1'),\n",
       " Delayed('add-452d9b6a-cf73-40d1-a8fc-a6943c30cbb8'),\n",
       " Delayed('add-703f462d-3e44-451c-9e53-1df964a09171'),\n",
       " Delayed('add-df6a24fc-9463-42d5-8211-547f24cc74e2'),\n",
       " Delayed('add-981dec47-2708-4286-8557-54484bde20fa'),\n",
       " Delayed('add-b311e491-a342-430a-8f09-f2ecbd093e6b'),\n",
       " Delayed('add-f77d5735-759c-4496-b5e7-ccf423dafa6f'),\n",
       " Delayed('add-1ead52e4-3cd9-493e-a656-58e125368c15'),\n",
       " Delayed('add-4b103c3e-8d6e-4301-a68a-0dee272fbccd'),\n",
       " Delayed('add-5e8611fe-a0d6-4437-bab9-91293884585c'),\n",
       " Delayed('add-36cced81-65df-44e5-88d4-103474d85c39'),\n",
       " Delayed('add-32334e0f-19d5-4a1e-9bd0-7423626c8bb9'),\n",
       " Delayed('add-ace093f5-1d71-4c1e-b4e6-2664ca7e80e1'),\n",
       " Delayed('add-79cfb6c0-0bc3-4ce3-a7e0-d922e504b555'),\n",
       " Delayed('add-9a0f19ea-b68f-4bd2-abb1-15f20db1b48b'),\n",
       " Delayed('add-028f6bfa-1625-499d-b15d-e0b364f2f7a2'),\n",
       " Delayed('add-0154f0d7-c893-4d55-97cd-75425906dbce'),\n",
       " Delayed('add-dc6555b2-ce5a-4ebd-bd01-cc0cd4fb58a6'),\n",
       " Delayed('add-a557c5f9-3d4f-4673-9ce8-364934eaf836'),\n",
       " Delayed('add-de1486e3-e874-4023-9b57-e171ff3e8bea'),\n",
       " Delayed('add-5c57e585-6df5-4d8a-98bc-f25ac13dcf83'),\n",
       " Delayed('add-dd5edf0d-264c-4c02-8832-cf258bdb927a'),\n",
       " Delayed('add-4d5c28d9-e9ed-443f-b6b4-1b849b35cadc'),\n",
       " Delayed('add-d7753c36-6039-465c-9c40-21c613abeca6'))"
      ]
     },
     "execution_count": 8,
     "metadata": {},
     "output_type": "execute_result"
    }
   ],
   "source": [
    "zs"
   ]
  },
  {
   "cell_type": "code",
   "execution_count": null,
   "id": "60da7c56-dc1d-4de1-a31c-9ae3e8f42963",
   "metadata": {},
   "outputs": [],
   "source": []
  }
 ],
 "metadata": {
  "kernelspec": {
   "display_name": "Python 3 (ipykernel)",
   "language": "python",
   "name": "python3"
  },
  "language_info": {
   "codemirror_mode": {
    "name": "ipython",
    "version": 3
   },
   "file_extension": ".py",
   "mimetype": "text/x-python",
   "name": "python",
   "nbconvert_exporter": "python",
   "pygments_lexer": "ipython3",
   "version": "3.8.10"
  }
 },
 "nbformat": 4,
 "nbformat_minor": 5
}
